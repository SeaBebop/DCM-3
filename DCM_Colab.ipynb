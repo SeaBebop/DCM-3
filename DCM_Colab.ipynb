{
  "nbformat": 4,
  "nbformat_minor": 0,
  "metadata": {
    "colab": {
      "provenance": [],
      "machine_shape": "hm",
      "gpuType": "A100",
      "mount_file_id": "1ODtALWcCrOfZRYMpXA8OX4MtnvwHxJqS",
      "authorship_tag": "ABX9TyNDnexm4Zb736X/LT1+sgq6",
      "include_colab_link": true
    },
    "kernelspec": {
      "name": "python3",
      "display_name": "Python 3"
    },
    "language_info": {
      "name": "python"
    }
  },
  "cells": [
    {
      "cell_type": "markdown",
      "metadata": {
        "id": "view-in-github",
        "colab_type": "text"
      },
      "source": [
        "<a href=\"https://colab.research.google.com/github/SeaBebop/DCM-3/blob/main/DCM_Colab.ipynb\" target=\"_parent\"><img src=\"https://colab.research.google.com/assets/colab-badge.svg\" alt=\"Open In Colab\"/></a>"
      ]
    },
    {
      "cell_type": "code",
      "execution_count": null,
      "metadata": {
        "colab": {
          "base_uri": "https://localhost:8080/"
        },
        "id": "Dm_bKQNaKzty",
        "outputId": "c8f88022-f304-4169-c733-be9f286df150"
      },
      "outputs": [
        {
          "output_type": "stream",
          "name": "stdout",
          "text": [
            "      Unnamed: 0                                      DCM_File_Path  \\\n",
            "886         3962  D:/chi/DDSM/Mass_train_roi/CBIS-DDSM/Mass-Test...   \n",
            "862         3822  D:/chi/DDSM/Mass_train_roi/CBIS-DDSM/Mass-Test...   \n",
            "950         4457  D:/chi/DDSM/Mass_train_roi/CBIS-DDSM/Mass-Test...   \n",
            "913         4190  D:/chi/DDSM/Mass_train_roi/CBIS-DDSM/Mass-Test...   \n",
            "852         3750  D:/chi/DDSM/Mass_train_roi/CBIS-DDSM/Mass-Test...   \n",
            "...          ...                                                ...   \n",
            "1081        5301  D:/chi/DDSM/Mass_train_roi/CBIS-DDSM/Mass-Trai...   \n",
            "1247        6392  D:/chi/DDSM/Mass_train_roi/CBIS-DDSM/Mass-Trai...   \n",
            "1031        5006  D:/chi/DDSM/Mass_train_roi/CBIS-DDSM/Mass-Trai...   \n",
            "1165        5848  D:/chi/DDSM/Mass_train_roi/CBIS-DDSM/Mass-Trai...   \n",
            "1139        5675  D:/chi/DDSM/Mass_train_roi/CBIS-DDSM/Mass-Trai...   \n",
            "\n",
            "      DCM_File_Size                              Label  Number of Images  \\\n",
            "886           84544        Mass-Test_P_00017_LEFT_CC_1                 2   \n",
            "862          100086       Mass-Test_P_00017_LEFT_MLO_1                 2   \n",
            "950          162484        Mass-Test_P_00066_LEFT_CC_1                 2   \n",
            "913           97026       Mass-Test_P_00099_LEFT_MLO_1                 2   \n",
            "852           65004       Mass-Test_P_00124_RIGHT_CC_1                 2   \n",
            "...             ...                                ...               ...   \n",
            "1081          94730  Mass-Training_P_01849_RIGHT_MLO_1                 2   \n",
            "1247         129612    Mass-Training_P_01853_LEFT_CC_1                 2   \n",
            "1031         110966   Mass-Training_P_01853_LEFT_MLO_1                 2   \n",
            "1165         118092    Mass-Training_P_01864_LEFT_CC_1                 2   \n",
            "1139         171440   Mass-Training_P_01890_LEFT_MLO_1                 2   \n",
            "\n",
            "                                                 Folder Classification  \n",
            "886   \\CBIS-DDSM\\Mass-Test_P_00017_LEFT_CC_1\\10-04-2...      MALIGNANT  \n",
            "862   \\CBIS-DDSM\\Mass-Test_P_00017_LEFT_MLO_1\\10-04-...      MALIGNANT  \n",
            "950   \\CBIS-DDSM\\Mass-Test_P_00066_LEFT_CC_1\\10-04-2...      MALIGNANT  \n",
            "913   \\CBIS-DDSM\\Mass-Test_P_00099_LEFT_MLO_1\\10-04-...         BENIGN  \n",
            "852   \\CBIS-DDSM\\Mass-Test_P_00124_RIGHT_CC_1\\10-04-...         BENIGN  \n",
            "...                                                 ...            ...  \n",
            "1081  \\CBIS-DDSM\\Mass-Training_P_01849_RIGHT_MLO_1\\0...         BENIGN  \n",
            "1247  \\CBIS-DDSM\\Mass-Training_P_01853_LEFT_CC_1\\07-...      MALIGNANT  \n",
            "1031  \\CBIS-DDSM\\Mass-Training_P_01853_LEFT_MLO_1\\07...      MALIGNANT  \n",
            "1165  \\CBIS-DDSM\\Mass-Training_P_01864_LEFT_CC_1\\07-...         BENIGN  \n",
            "1139  \\CBIS-DDSM\\Mass-Training_P_01890_LEFT_MLO_1\\07...      MALIGNANT  \n",
            "\n",
            "[493 rows x 7 columns]\n",
            "/content/drive/MyDrive/reduced_files/Mass-Test_P_00017_LEFT_CC_1/1-1.dcm\n"
          ]
        }
      ],
      "source": [
        "#In order for this program to work you NEED:\n",
        "\n",
        "#1. DCM_File_Paths_Reduced.csv (This is the 700 images in csv format, all organized to locate the images in your google drive)\n",
        "# Without it the program doesn't know where the images are\n",
        "# To Upload the file run:\n",
        "# from google.colab import files\n",
        "# uploaded = files.upload()\n",
        "\n",
        "#2. reduced_files folder\n",
        "# This should be in your google drive, mount the drive to colab to access it\n",
        "\n",
        "#3. Install tensorflow, tqdm, pydicom\n",
        "# This is done with !pip install <insert library>\n",
        "\n",
        "#To test if this is working, run this cell\n",
        "#You should see /content/drive/MyDrive/reduced_files/Calc-Test_P_00041_LEFT_CC_2/1-1.dcm as an output\n",
        "\n",
        "import numpy as np\n",
        "from sklearn.preprocessing import MinMaxScaler\n",
        "import csv\n",
        "import keras\n",
        "from keras.models import Model, Sequential\n",
        "from keras.layers import Input, Dense, Conv2D\n",
        "from keras.layers import MaxPooling2D, UpSampling2D, Flatten, Reshape\n",
        "#from keras.preprocessing.image import load_img, img_to_array\n",
        "import matplotlib.pyplot as plt\n",
        "import pandas as pd\n",
        "import os\n",
        "from tqdm import tqdm\n",
        "      # install the pydicom package\n",
        "from PIL import Image # install the pillow package and it is called PIL.\n",
        "from sklearn.model_selection import train_test_split\n",
        "from matplotlib import pyplot\n",
        "# train autoencoder for classification with no compression in the bottleneck layer\n",
        "import keras\n",
        "from keras import layers\n",
        "\n",
        "data = pd.read_csv(\"/content/DCM_File_Paths_Reduced.csv\")\n",
        "\n",
        "size_list_dir = []\n",
        "finalized_list_dir = []\n",
        "\n",
        "#Will be used for comparsion to find the ROI dcm files\n",
        "Label_list = []\n",
        "#Number of Images\n",
        "Number_of_Images=[]\n",
        "Pathology=[]\n",
        "folder = []\n",
        "#The counter is used to align the labels and the File Location together\n",
        "counter = 0;\n",
        "\n",
        "#print()\n",
        "#Checker is to test the individual file location and how does it look as a str\n",
        "checker = ''\n",
        "data=data.sort_values('DCM_File_Path')\n",
        "#Select if Mass or Calc\n",
        "print(data[data['Label'].str.contains(\"Mass\")]) #Checking if it works\n",
        "data = data[data['Label'].str.contains(\"Mass\")] #Filtered for just Mass\n",
        "#data = data[data['Label'].str.contains(\"Calc\")] #Can pick calc instead, comment Mass\n",
        "reduced_file_path =  '/content/drive/MyDrive/reduced_files/'\n",
        "#Figuring out how to extract data from googledrive\n",
        "print( reduced_file_path + data['Label'].iloc[0] +\"/\" + os.listdir('/content/drive/MyDrive/reduced_files/' + data['Label'].iloc[0])[0])\n"
      ]
    },
    {
      "cell_type": "code",
      "source": [
        "    import numpy as np\n",
        "    import keras\n",
        "    from keras.models import Model, Sequential\n",
        "    from keras.layers import Input, Dense, Conv2D\n",
        "    from keras.layers import MaxPooling2D, UpSampling2D, Flatten, Reshape\n",
        "\n",
        "    import matplotlib.pyplot as plt\n",
        "    import pandas as pd\n",
        "\n",
        "    import numpy as np\n",
        "    from sklearn.preprocessing import MinMaxScaler\n",
        "    from tensorflow.keras.preprocessing.image import load_img, img_to_array\n",
        "    from tensorflow.keras.models import Model, Sequential\n",
        "    import keras\n",
        "    from keras.models import Model, Sequential\n",
        "    from keras.layers import Input, Dense, Conv2D\n",
        "    from keras.layers import MaxPooling2D, UpSampling2D, Flatten, Reshape\n",
        "    #from keras.preprocessing.image import load_img, img_to_array\n",
        "    from tensorflow.keras.regularizers import l1\n",
        "    import matplotlib.pyplot as plt\n",
        "\n",
        "    import pydicom        # install the pydicom package\n",
        "    from PIL import Image # install the pillow package and it is called PIL.\n",
        "    from sklearn.model_selection import train_test_split\n",
        "\n",
        "    from matplotlib import pyplot\n",
        "    # train autoencoder for classification with no compoutputression in the bottleneck layer\n",
        "    import keras\n",
        "    from keras import layers\n",
        "    # train autoencoder for classification with no compression in the bottleneck layer\n",
        "    import keras\n",
        "    from keras import layers\n",
        "    h = 256\n",
        "    w = 256\n",
        "    ch = 1\n",
        "\n",
        "\n",
        "\n",
        "    #This is the example code that tests out dcms\n",
        "    #Using the finalized_list_dir I can use my locations\n",
        "    #This also means of course I can loop them, show the labels of each of them,etc\n",
        "\n",
        "    trigger = 0\n",
        "    counter = 0\n",
        "    dcmMask = np.zeros((len(data),h,w,1), dtype=\"float\")\n",
        "    y_label = []\n",
        "\n",
        "\n",
        "    for i in tqdm(range(0,len(data))):\n",
        "        #Setting up x and y\n",
        "        dicomdata = pydicom.read_file(reduced_file_path + data['Label'].iloc[i]\n",
        "                                      + \"/\" + os.listdir('/content/drive/MyDrive/reduced_files/' + data['Label'].iloc[i])[0],force=True)  # masked image\n",
        "        if data['Classification'].iloc[i]  == 'BENIGN':\n",
        "            y_label.append(0)\n",
        "        else:\n",
        "            y_label.append(1)\n",
        "\n",
        "        #Testing if labels and dcm align properly\n",
        "        #if trigger < 5:\n",
        "        #    print('This is class ',i+20,edited_df['Classification'].iloc[i+20])\n",
        "        #    print('This is path ', i+20,edited_df['DCM_File_Path'].iloc[i+20])\n",
        "        #    trigger+=1\n",
        "        #Converting to numpy array\n",
        "        tmp = np.zeros((dicomdata.Rows, dicomdata.Columns), dtype=\"float32\")\n",
        "        tmp = dicomdata.pixel_array/65535.0\n",
        "\n",
        "        img = Image.fromarray(tmp)\n",
        "        img_resize = img.resize((h,w), Image.LANCZOS)\n",
        "        tmp2 = img_to_array(img_resize)\n",
        "        dcmMask[i] = tmp2.reshape((h,w,ch))\n",
        "        #Testing if data is set up as a 3d Rensor\n",
        "        \"\"\"\n",
        "        if trigger != 10:\n",
        "            print('this is dimension',dcmMask[i].ndim)\n",
        "            print('this is shape',dcmMask[i].shape)\n",
        "            print('this is type',dcmMask[i].dtype)\n",
        "            print('this looks like this', dcmMask[i])\n",
        "            print('this is path:',reduced_file_path + data['Label'].iloc[i]\n",
        "                                      + \"/\" + os.listdir('/content/drive/MyDrive/reduced_files/' + data['Label'].iloc[i])[0])\n",
        "            print('this is path classification:',data['Classification'].iloc[i])\n",
        "            trigger+=1\n",
        "        \"\"\"\n",
        "        #If you are interested to see all the pictures individually,increased runtime\n",
        "        #data = tmp2.reshape((h,w,ch))\n",
        "        #plt.imshow(np.reshape(data, (h, w)), cmap='gray')\n",
        "        #plt.show()\n",
        "    #print(dcmMask.shape)\n"
      ],
      "metadata": {
        "colab": {
          "base_uri": "https://localhost:8080/"
        },
        "id": "o_VJHfs7Tugq",
        "outputId": "b258e721-52cc-4d24-fed0-3e95b79cc736"
      },
      "execution_count": null,
      "outputs": [
        {
          "output_type": "stream",
          "name": "stderr",
          "text": [
            "100%|██████████| 493/493 [02:26<00:00,  3.37it/s]\n"
          ]
        }
      ]
    },
    {
      "cell_type": "code",
      "source": [
        "\n",
        "\n",
        "\n",
        "    input_img = Input(shape=(h,w,ch))\n",
        "    encoding_dim = 6\n",
        "\n",
        "    x = Conv2D(64,(3,3),activation='relu',padding='same')(input_img)\n",
        "    x = MaxPooling2D((2,2),padding='same')(x)\n",
        "    x = Conv2D(128,(3,3),activation='relu',padding='same')(x)\n",
        "    x = MaxPooling2D((2,2),padding='same')(x)\n",
        "    x = Conv2D(128,(3,3),activation='relu',padding='same')(x)\n",
        "    x = MaxPooling2D((2,2),padding='same')(x)\n",
        "    x = Conv2D(256,(3,3),activation='relu',padding='same')(x)\n",
        "    x = MaxPooling2D((2,2),padding='same')(x)\n",
        "    x = Conv2D(256,(3,3),activation='relu',padding='same')(x)\n",
        "    x = MaxPooling2D((2,2),padding='same')(x)\n",
        "    x = Conv2D(8,(3,3),activation='relu',padding='same')(x)\n",
        "    x = MaxPooling2D((2,2),padding='same')(x)\n",
        "    x = Flatten()(x)\n",
        "\n",
        "    encoded = Dense(42, activation='relu')(x)\n",
        "\n",
        "    # Decoda\n",
        "    x = Dense(4*4*8, activation='relu')(encoded)\n",
        "    x = Reshape((4,4,8))(x)\n",
        "    x = Conv2D(8,(3,3),activation='relu',padding='same')(x)\n",
        "    x = UpSampling2D((2,2))(x)\n",
        "    x = Conv2D(256,(3,3),activation='relu',padding='same')(x)\n",
        "    x = UpSampling2D((2,2))(x)\n",
        "    x = Conv2D(256,(3,3),activation='relu',padding='same')(x)\n",
        "    x = UpSampling2D((2,2))(x)\n",
        "    x = Conv2D(128,(3,3),activation='relu',padding='same')(x)\n",
        "    x = UpSampling2D((2,2))(x)\n",
        "    x = Conv2D(128,(3,3),activation='relu',padding='same')(x)\n",
        "    x = UpSampling2D((2,2))(x)\n",
        "    x = Conv2D(64,(3,3),activation='relu',padding='same')(x)\n",
        "    x = UpSampling2D((2,2))(x)\n",
        "\n",
        "    decoded = Conv2D(1,(3,3),activation='sigmoid',padding='same')(x)\n",
        "\n",
        "    autoencoder = Model(input_img, decoded)\n",
        "    encoder = Model(input_img, encoded)\n",
        "    autoencoder.compile(optimizer='Adam', loss='mse')\n",
        "\n",
        "    autoencoder.summary()\n",
        "\n",
        "\n",
        "    autoencoder.fit(\n",
        "    dcmMask,\n",
        "    dcmMask,\n",
        "    epochs=120,\n",
        "    batch_size=128,\n",
        "    shuffle=True\n",
        "\n",
        "    )\n",
        "   # test_loss, test_acc = autoencoder.evaluate(y_train, y_test)\n",
        "    #print(f\"Test accuracy: {test_acc:.3f}\")\n",
        "        ## Generated images\n",
        "    train_encoded = encoder.predict(dcmMask, verbose=1)\n",
        "    train_decoded = autoencoder.predict(dcmMask, verbose=1)\n",
        "\n",
        "    # Check dimesnsions\n",
        "    print(train_encoded.shape)\n",
        "    print(train_decoded.shape)\n",
        "\n",
        "\n",
        "\n",
        "    # Display original image after reshaping\n",
        "    plt.imshow(dcmMask[0].reshape(256, 256), cmap='gray')\n",
        "\n",
        "\n",
        "\n",
        "    #Show the generated image by AutoEncoder\n",
        "    # train_decoded is the output of the decoder,i.e.,regenerated images\n",
        "    plt.imshow(train_decoded[0].reshape(256, 256), cmap='gray')"
      ],
      "metadata": {
        "colab": {
          "base_uri": "https://localhost:8080/",
          "height": 1000
        },
        "id": "ocX7ZmTtnEVk",
        "outputId": "a116d8b1-d60a-4ec1-8724-790e68cfffa0"
      },
      "execution_count": null,
      "outputs": [
        {
          "output_type": "stream",
          "name": "stdout",
          "text": [
            "Model: \"model\"\n",
            "_________________________________________________________________\n",
            " Layer (type)                Output Shape              Param #   \n",
            "=================================================================\n",
            " input_1 (InputLayer)        [(None, 256, 256, 1)]     0         \n",
            "                                                                 \n",
            " conv2d (Conv2D)             (None, 256, 256, 64)      640       \n",
            "                                                                 \n",
            " max_pooling2d (MaxPooling2D  (None, 128, 128, 64)     0         \n",
            " )                                                               \n",
            "                                                                 \n",
            " conv2d_1 (Conv2D)           (None, 128, 128, 128)     73856     \n",
            "                                                                 \n",
            " max_pooling2d_1 (MaxPooling  (None, 64, 64, 128)      0         \n",
            " 2D)                                                             \n",
            "                                                                 \n",
            " conv2d_2 (Conv2D)           (None, 64, 64, 128)       147584    \n",
            "                                                                 \n",
            " max_pooling2d_2 (MaxPooling  (None, 32, 32, 128)      0         \n",
            " 2D)                                                             \n",
            "                                                                 \n",
            " conv2d_3 (Conv2D)           (None, 32, 32, 256)       295168    \n",
            "                                                                 \n",
            " max_pooling2d_3 (MaxPooling  (None, 16, 16, 256)      0         \n",
            " 2D)                                                             \n",
            "                                                                 \n",
            " conv2d_4 (Conv2D)           (None, 16, 16, 256)       590080    \n",
            "                                                                 \n",
            " max_pooling2d_4 (MaxPooling  (None, 8, 8, 256)        0         \n",
            " 2D)                                                             \n",
            "                                                                 \n",
            " conv2d_5 (Conv2D)           (None, 8, 8, 8)           18440     \n",
            "                                                                 \n",
            " max_pooling2d_5 (MaxPooling  (None, 4, 4, 8)          0         \n",
            " 2D)                                                             \n",
            "                                                                 \n",
            " flatten (Flatten)           (None, 128)               0         \n",
            "                                                                 \n",
            " dense (Dense)               (None, 42)                5418      \n",
            "                                                                 \n",
            " dense_1 (Dense)             (None, 128)               5504      \n",
            "                                                                 \n",
            " reshape (Reshape)           (None, 4, 4, 8)           0         \n",
            "                                                                 \n",
            " conv2d_6 (Conv2D)           (None, 4, 4, 8)           584       \n",
            "                                                                 \n",
            " up_sampling2d (UpSampling2D  (None, 8, 8, 8)          0         \n",
            " )                                                               \n",
            "                                                                 \n",
            " conv2d_7 (Conv2D)           (None, 8, 8, 256)         18688     \n",
            "                                                                 \n",
            " up_sampling2d_1 (UpSampling  (None, 16, 16, 256)      0         \n",
            " 2D)                                                             \n",
            "                                                                 \n",
            " conv2d_8 (Conv2D)           (None, 16, 16, 256)       590080    \n",
            "                                                                 \n",
            " up_sampling2d_2 (UpSampling  (None, 32, 32, 256)      0         \n",
            " 2D)                                                             \n",
            "                                                                 \n",
            " conv2d_9 (Conv2D)           (None, 32, 32, 128)       295040    \n",
            "                                                                 \n",
            " up_sampling2d_3 (UpSampling  (None, 64, 64, 128)      0         \n",
            " 2D)                                                             \n",
            "                                                                 \n",
            " conv2d_10 (Conv2D)          (None, 64, 64, 128)       147584    \n",
            "                                                                 \n",
            " up_sampling2d_4 (UpSampling  (None, 128, 128, 128)    0         \n",
            " 2D)                                                             \n",
            "                                                                 \n",
            " conv2d_11 (Conv2D)          (None, 128, 128, 64)      73792     \n",
            "                                                                 \n",
            " up_sampling2d_5 (UpSampling  (None, 256, 256, 64)     0         \n",
            " 2D)                                                             \n",
            "                                                                 \n",
            " conv2d_12 (Conv2D)          (None, 256, 256, 1)       577       \n",
            "                                                                 \n",
            "=================================================================\n",
            "Total params: 2,263,035\n",
            "Trainable params: 2,263,035\n",
            "Non-trainable params: 0\n",
            "_________________________________________________________________\n",
            "Epoch 1/120\n",
            "4/4 [==============================] - 251s 61s/step - loss: 0.0589\n",
            "Epoch 2/120\n",
            "4/4 [==============================] - 246s 61s/step - loss: 0.0281\n",
            "Epoch 3/120\n",
            "4/4 [==============================] - 247s 61s/step - loss: 0.0231\n",
            "Epoch 4/120\n",
            "4/4 [==============================] - 246s 61s/step - loss: 0.0219\n",
            "Epoch 5/120\n",
            "4/4 [==============================] - 248s 62s/step - loss: 0.0203\n",
            "Epoch 6/120\n",
            "4/4 [==============================] - 250s 62s/step - loss: 0.0191\n",
            "Epoch 7/120\n",
            "4/4 [==============================] - 248s 61s/step - loss: 0.0184\n",
            "Epoch 8/120\n",
            "4/4 [==============================] - 248s 61s/step - loss: 0.0167\n",
            "Epoch 9/120\n",
            "4/4 [==============================] - 248s 61s/step - loss: 0.0172\n",
            "Epoch 10/120\n",
            "4/4 [==============================] - 249s 62s/step - loss: 0.0152\n",
            "Epoch 11/120\n",
            "4/4 [==============================] - 247s 61s/step - loss: 0.0145\n",
            "Epoch 12/120\n",
            "4/4 [==============================] - 244s 60s/step - loss: 0.0129\n",
            "Epoch 13/120\n",
            "4/4 [==============================] - 246s 61s/step - loss: 0.0117\n",
            "Epoch 14/120\n",
            "4/4 [==============================] - 244s 61s/step - loss: 0.0107\n",
            "Epoch 15/120\n",
            "4/4 [==============================] - 243s 60s/step - loss: 0.0102\n",
            "Epoch 16/120\n",
            "4/4 [==============================] - 242s 60s/step - loss: 0.0086\n",
            "Epoch 17/120\n",
            "4/4 [==============================] - 245s 60s/step - loss: 0.0084\n",
            "Epoch 18/120\n",
            "4/4 [==============================] - 243s 60s/step - loss: 0.0076\n",
            "Epoch 19/120\n",
            "4/4 [==============================] - 242s 60s/step - loss: 0.0072\n",
            "Epoch 20/120\n",
            "4/4 [==============================] - 244s 61s/step - loss: 0.0064\n",
            "Epoch 21/120\n",
            "4/4 [==============================] - 241s 60s/step - loss: 0.0053\n",
            "Epoch 22/120\n",
            "4/4 [==============================] - 243s 60s/step - loss: 0.0052\n",
            "Epoch 23/120\n",
            "4/4 [==============================] - 244s 60s/step - loss: 0.0053\n",
            "Epoch 24/120\n",
            "4/4 [==============================] - 243s 60s/step - loss: 0.0053\n",
            "Epoch 25/120\n",
            "4/4 [==============================] - 242s 60s/step - loss: 0.0053\n",
            "Epoch 26/120\n",
            "4/4 [==============================] - 243s 60s/step - loss: 0.0052\n",
            "Epoch 27/120\n",
            "4/4 [==============================] - 244s 60s/step - loss: 0.0049\n",
            "Epoch 28/120\n",
            "4/4 [==============================] - 244s 60s/step - loss: 0.0044\n",
            "Epoch 29/120\n",
            "4/4 [==============================] - 245s 61s/step - loss: 0.0041\n",
            "Epoch 30/120\n",
            "4/4 [==============================] - 245s 61s/step - loss: 0.0041\n",
            "Epoch 31/120\n",
            "4/4 [==============================] - 246s 61s/step - loss: 0.0037\n",
            "Epoch 32/120\n",
            "4/4 [==============================] - 245s 61s/step - loss: 0.0034\n",
            "Epoch 33/120\n",
            "4/4 [==============================] - 245s 61s/step - loss: 0.0034\n",
            "Epoch 34/120\n",
            "4/4 [==============================] - 242s 60s/step - loss: 0.0032\n",
            "Epoch 35/120\n",
            "4/4 [==============================] - 243s 60s/step - loss: 0.0034\n",
            "Epoch 36/120\n",
            "4/4 [==============================] - 243s 60s/step - loss: 0.0032\n",
            "Epoch 37/120\n",
            "4/4 [==============================] - 242s 60s/step - loss: 0.0038\n",
            "Epoch 38/120\n",
            "4/4 [==============================] - 245s 60s/step - loss: 0.0034\n",
            "Epoch 39/120\n",
            "4/4 [==============================] - 243s 60s/step - loss: 0.0035\n",
            "Epoch 40/120\n",
            "4/4 [==============================] - 244s 60s/step - loss: 0.0030\n",
            "Epoch 41/120\n",
            "4/4 [==============================] - 244s 60s/step - loss: 0.0030\n",
            "Epoch 42/120\n",
            "4/4 [==============================] - 249s 61s/step - loss: 0.0028\n",
            "Epoch 43/120\n",
            "4/4 [==============================] - 248s 61s/step - loss: 0.0027\n",
            "Epoch 44/120\n",
            "4/4 [==============================] - 247s 61s/step - loss: 0.0027\n",
            "Epoch 45/120\n",
            "4/4 [==============================] - 246s 61s/step - loss: 0.0027\n",
            "Epoch 46/120\n",
            "4/4 [==============================] - 247s 61s/step - loss: 0.0025\n",
            "Epoch 47/120\n",
            "4/4 [==============================] - 244s 61s/step - loss: 0.0028\n",
            "Epoch 48/120\n",
            "4/4 [==============================] - 247s 61s/step - loss: 0.0039\n",
            "Epoch 49/120\n",
            "4/4 [==============================] - 252s 63s/step - loss: 0.0030\n",
            "Epoch 50/120\n",
            "4/4 [==============================] - 251s 61s/step - loss: 0.0029\n",
            "Epoch 51/120\n",
            "4/4 [==============================] - 243s 60s/step - loss: 0.0027\n",
            "Epoch 52/120\n",
            "4/4 [==============================] - 246s 61s/step - loss: 0.0025\n",
            "Epoch 53/120\n",
            "4/4 [==============================] - 246s 61s/step - loss: 0.0024\n",
            "Epoch 54/120\n",
            "4/4 [==============================] - 248s 62s/step - loss: 0.0024\n",
            "Epoch 55/120\n",
            "4/4 [==============================] - 247s 61s/step - loss: 0.0023\n",
            "Epoch 56/120\n",
            "4/4 [==============================] - 246s 61s/step - loss: 0.0025\n",
            "Epoch 57/120\n",
            "4/4 [==============================] - 246s 61s/step - loss: 0.0026\n",
            "Epoch 58/120\n",
            "4/4 [==============================] - 247s 61s/step - loss: 0.0024\n",
            "Epoch 59/120\n",
            "4/4 [==============================] - 243s 60s/step - loss: 0.0034\n",
            "Epoch 60/120\n",
            "4/4 [==============================] - 242s 60s/step - loss: 0.0025\n",
            "Epoch 61/120\n",
            "4/4 [==============================] - 245s 60s/step - loss: 0.0023\n",
            "Epoch 62/120\n",
            "4/4 [==============================] - 246s 61s/step - loss: 0.0024\n",
            "Epoch 63/120\n",
            "4/4 [==============================] - 245s 61s/step - loss: 0.0025\n",
            "Epoch 64/120\n",
            "4/4 [==============================] - 248s 61s/step - loss: 0.0023\n",
            "Epoch 65/120\n",
            "4/4 [==============================] - 246s 61s/step - loss: 0.0022\n",
            "Epoch 66/120\n",
            "4/4 [==============================] - 244s 60s/step - loss: 0.0031\n",
            "Epoch 67/120\n",
            "4/4 [==============================] - 248s 61s/step - loss: 0.0026\n",
            "Epoch 68/120\n",
            "4/4 [==============================] - 247s 61s/step - loss: 0.0025\n",
            "Epoch 69/120\n",
            "4/4 [==============================] - 244s 60s/step - loss: 0.0027\n",
            "Epoch 70/120\n",
            "4/4 [==============================] - 245s 60s/step - loss: 0.0025\n",
            "Epoch 71/120\n",
            "4/4 [==============================] - 244s 60s/step - loss: 0.0021\n",
            "Epoch 72/120\n",
            "4/4 [==============================] - 245s 61s/step - loss: 0.0021\n",
            "Epoch 73/120\n",
            "4/4 [==============================] - 243s 60s/step - loss: 0.0024\n",
            "Epoch 74/120\n",
            "4/4 [==============================] - 244s 60s/step - loss: 0.0021\n",
            "Epoch 75/120\n",
            "4/4 [==============================] - 248s 61s/step - loss: 0.0022\n",
            "Epoch 76/120\n",
            "4/4 [==============================] - 244s 60s/step - loss: 0.0021\n",
            "Epoch 77/120\n",
            "4/4 [==============================] - 241s 60s/step - loss: 0.0022\n",
            "Epoch 78/120\n",
            "4/4 [==============================] - 242s 60s/step - loss: 0.0020\n",
            "Epoch 79/120\n",
            "4/4 [==============================] - 243s 59s/step - loss: 0.0020\n",
            "Epoch 80/120\n",
            "4/4 [==============================] - 243s 60s/step - loss: 0.0031\n",
            "Epoch 81/120\n",
            "4/4 [==============================] - 242s 60s/step - loss: 0.0027\n",
            "Epoch 82/120\n",
            "4/4 [==============================] - 248s 62s/step - loss: 0.0024\n",
            "Epoch 83/120\n",
            "4/4 [==============================] - 244s 60s/step - loss: 0.0024\n",
            "Epoch 84/120\n",
            "4/4 [==============================] - 244s 60s/step - loss: 0.0023\n",
            "Epoch 85/120\n",
            "4/4 [==============================] - 245s 61s/step - loss: 0.0022\n",
            "Epoch 86/120\n",
            "4/4 [==============================] - 244s 60s/step - loss: 0.0020\n",
            "Epoch 87/120\n",
            "4/4 [==============================] - 243s 60s/step - loss: 0.0022\n",
            "Epoch 88/120\n",
            "4/4 [==============================] - 242s 60s/step - loss: 0.0020\n",
            "Epoch 89/120\n",
            "4/4 [==============================] - 243s 60s/step - loss: 0.0019\n",
            "Epoch 90/120\n",
            "4/4 [==============================] - 243s 60s/step - loss: 0.0019\n",
            "Epoch 91/120\n",
            "4/4 [==============================] - 242s 60s/step - loss: 0.0019\n",
            "Epoch 92/120\n",
            "4/4 [==============================] - 242s 60s/step - loss: 0.0031\n",
            "Epoch 93/120\n",
            "4/4 [==============================] - 246s 61s/step - loss: 0.0026\n",
            "Epoch 94/120\n",
            "4/4 [==============================] - 242s 60s/step - loss: 0.0024\n",
            "Epoch 95/120\n",
            "4/4 [==============================] - 243s 60s/step - loss: 0.0023\n",
            "Epoch 96/120\n",
            "4/4 [==============================] - 242s 60s/step - loss: 0.0023\n",
            "Epoch 97/120\n",
            "4/4 [==============================] - 245s 60s/step - loss: 0.0022\n",
            "Epoch 98/120\n",
            "4/4 [==============================] - 243s 60s/step - loss: 0.0021\n",
            "Epoch 99/120\n",
            "4/4 [==============================] - 244s 60s/step - loss: 0.0020\n",
            "Epoch 100/120\n",
            "4/4 [==============================] - 247s 61s/step - loss: 0.0021\n",
            "Epoch 101/120\n",
            "4/4 [==============================] - 244s 60s/step - loss: 0.0020\n",
            "Epoch 102/120\n",
            "4/4 [==============================] - 245s 60s/step - loss: 0.0019\n",
            "Epoch 103/120\n",
            "4/4 [==============================] - 249s 61s/step - loss: 0.0019\n",
            "Epoch 104/120\n",
            "4/4 [==============================] - 249s 62s/step - loss: 0.0020\n",
            "Epoch 105/120\n",
            "4/4 [==============================] - 247s 61s/step - loss: 0.0019\n",
            "Epoch 106/120\n",
            "4/4 [==============================] - 245s 60s/step - loss: 0.0018\n",
            "Epoch 107/120\n",
            "4/4 [==============================] - 245s 60s/step - loss: 0.0018\n",
            "Epoch 108/120\n",
            "4/4 [==============================] - 244s 61s/step - loss: 0.0018\n",
            "Epoch 109/120\n",
            "4/4 [==============================] - 245s 60s/step - loss: 0.0017\n",
            "Epoch 110/120\n",
            "4/4 [==============================] - 247s 61s/step - loss: 0.0028\n",
            "Epoch 111/120\n",
            "4/4 [==============================] - 248s 61s/step - loss: 0.0025\n",
            "Epoch 112/120\n",
            "4/4 [==============================] - 246s 61s/step - loss: 0.0023\n",
            "Epoch 113/120\n",
            "4/4 [==============================] - 246s 61s/step - loss: 0.0023\n",
            "Epoch 114/120\n",
            "4/4 [==============================] - 248s 61s/step - loss: 0.0020\n",
            "Epoch 115/120\n",
            "4/4 [==============================] - 249s 61s/step - loss: 0.0019\n",
            "Epoch 116/120\n",
            "4/4 [==============================] - 245s 60s/step - loss: 0.0018\n",
            "Epoch 117/120\n",
            "4/4 [==============================] - 246s 60s/step - loss: 0.0018\n",
            "Epoch 118/120\n",
            "4/4 [==============================] - 245s 60s/step - loss: 0.0017\n",
            "Epoch 119/120\n",
            "4/4 [==============================] - 246s 60s/step - loss: 0.0017\n",
            "Epoch 120/120\n",
            "4/4 [==============================] - 246s 61s/step - loss: 0.0017\n",
            "16/16 [==============================] - 28s 2s/step\n",
            "16/16 [==============================] - 60s 4s/step\n",
            "(493, 42)\n",
            "(493, 256, 256, 1)\n"
          ]
        },
        {
          "output_type": "execute_result",
          "data": {
            "text/plain": [
              "<matplotlib.image.AxesImage at 0x7fad2b90eb30>"
            ]
          },
          "metadata": {},
          "execution_count": 8
        },
        {
          "output_type": "display_data",
          "data": {
            "text/plain": [
              "<Figure size 640x480 with 1 Axes>"
            ],
            "image/png": "[encoded data removed]"
          },
          "metadata": {}
        }
      ]
    },
    {
      "cell_type": "code",
      "source": [],
      "metadata": {
        "id": "FeF1zXOcrXQG"
      },
      "execution_count": null,
      "outputs": []
    },
    {
      "cell_type": "code",
      "source": [
        "plt.imshow(train_decoded[0].reshape(256, 256), cmap='gray')"
      ],
      "metadata": {
        "colab": {
          "base_uri": "https://localhost:8080/",
          "height": 453
        },
        "id": "5HMVvogXCK_c",
        "outputId": "da27f777-0a8c-4a82-f89e-0dcb30247439"
      },
      "execution_count": null,
      "outputs": [
        {
          "output_type": "execute_result",
          "data": {
            "text/plain": [
              "<matplotlib.image.AxesImage at 0x7facde769d50>"
            ]
          },
          "metadata": {},
          "execution_count": 9
        },
        {
          "output_type": "display_data",
          "data": {
            "text/plain": [
              "<Figure size 640x480 with 1 Axes>"
            ],
            "image/png": "[encoded data removed]"
          },
          "metadata": {}
        }
      ]
    },
    {
      "cell_type": "code",
      "source": [
        "plt.imshow(train_decoded[1].reshape(256, 256), cmap='gray')"
      ],
      "metadata": {
        "colab": {
          "base_uri": "https://localhost:8080/",
          "height": 453
        },
        "id": "1Sbeq7_4CLEG",
        "outputId": "776ca5d2-ae79-4b72-e526-e14bcbbc4648"
      },
      "execution_count": null,
      "outputs": [
        {
          "output_type": "execute_result",
          "data": {
            "text/plain": [
              "<matplotlib.image.AxesImage at 0x7facfa7a4c10>"
            ]
          },
          "metadata": {},
          "execution_count": 10
        },
        {
          "output_type": "display_data",
          "data": {
            "text/plain": [
              "<Figure size 640x480 with 1 Axes>"
            ],
            "image/png": "[encoded data removed]"
          },
          "metadata": {}
        }
      ]
    },
    {
      "cell_type": "code",
      "source": [
        "plt.imshow(train_encoded[0].reshape(8, 8), cmap='gray')"
      ],
      "metadata": {
        "colab": {
          "base_uri": "https://localhost:8080/",
          "height": 170
        },
        "id": "iwUF96jhq4zA",
        "outputId": "867384e8-c1cc-4295-f210-e3a91ba27f5b"
      },
      "execution_count": null,
      "outputs": [
        {
          "output_type": "error",
          "ename": "ValueError",
          "evalue": "ignored",
          "traceback": [
            "\u001b[0;31m---------------------------------------------------------------------------\u001b[0m",
            "\u001b[0;31mValueError\u001b[0m                                Traceback (most recent call last)",
            "\u001b[0;32m<ipython-input-11-498844845cc7>\u001b[0m in \u001b[0;36m<cell line: 1>\u001b[0;34m()\u001b[0m\n\u001b[0;32m----> 1\u001b[0;31m \u001b[0mplt\u001b[0m\u001b[0;34m.\u001b[0m\u001b[0mimshow\u001b[0m\u001b[0;34m(\u001b[0m\u001b[0mtrain_encoded\u001b[0m\u001b[0;34m[\u001b[0m\u001b[0;36m0\u001b[0m\u001b[0;34m]\u001b[0m\u001b[0;34m.\u001b[0m\u001b[0mreshape\u001b[0m\u001b[0;34m(\u001b[0m\u001b[0;36m8\u001b[0m\u001b[0;34m,\u001b[0m \u001b[0;36m8\u001b[0m\u001b[0;34m)\u001b[0m\u001b[0;34m,\u001b[0m \u001b[0mcmap\u001b[0m\u001b[0;34m=\u001b[0m\u001b[0;34m'gray'\u001b[0m\u001b[0;34m)\u001b[0m\u001b[0;34m\u001b[0m\u001b[0;34m\u001b[0m\u001b[0m\n\u001b[0m",
            "\u001b[0;31mValueError\u001b[0m: cannot reshape array of size 42 into shape (8,8)"
          ]
        }
      ]
    },
    {
      "cell_type": "code",
      "source": [
        "plt.imshow(train_decoded[2].reshape(256, 256), cmap='gray')"
      ],
      "metadata": {
        "colab": {
          "base_uri": "https://localhost:8080/",
          "height": 170
        },
        "id": "efxRBMxgCLLF",
        "outputId": "318aa696-5134-496c-f2b0-711341f37bd6"
      },
      "execution_count": null,
      "outputs": [
        {
          "output_type": "error",
          "ename": "NameError",
          "evalue": "ignored",
          "traceback": [
            "\u001b[0;31m---------------------------------------------------------------------------\u001b[0m",
            "\u001b[0;31mNameError\u001b[0m                                 Traceback (most recent call last)",
            "\u001b[0;32m<ipython-input-1-ef8cf8e0a860>\u001b[0m in \u001b[0;36m<cell line: 1>\u001b[0;34m()\u001b[0m\n\u001b[0;32m----> 1\u001b[0;31m \u001b[0mplt\u001b[0m\u001b[0;34m.\u001b[0m\u001b[0mimshow\u001b[0m\u001b[0;34m(\u001b[0m\u001b[0mtrain_decoded\u001b[0m\u001b[0;34m[\u001b[0m\u001b[0;36m2\u001b[0m\u001b[0;34m]\u001b[0m\u001b[0;34m.\u001b[0m\u001b[0mreshape\u001b[0m\u001b[0;34m(\u001b[0m\u001b[0;36m256\u001b[0m\u001b[0;34m,\u001b[0m \u001b[0;36m256\u001b[0m\u001b[0;34m)\u001b[0m\u001b[0;34m,\u001b[0m \u001b[0mcmap\u001b[0m\u001b[0;34m=\u001b[0m\u001b[0;34m'gray'\u001b[0m\u001b[0;34m)\u001b[0m\u001b[0;34m\u001b[0m\u001b[0;34m\u001b[0m\u001b[0m\n\u001b[0m",
            "\u001b[0;31mNameError\u001b[0m: name 'plt' is not defined"
          ]
        }
      ]
    },
    {
      "cell_type": "code",
      "source": [
        "plt.imshow(dcmMask[0].reshape(256, 256), cmap='gray')"
      ],
      "metadata": {
        "id": "O7qq3G7zCU2w"
      },
      "execution_count": null,
      "outputs": []
    },
    {
      "cell_type": "code",
      "source": [
        "plt.imshow(dcmMask[1].reshape(256, 256), cmap='gray')"
      ],
      "metadata": {
        "id": "OmQlQU97CVSW"
      },
      "execution_count": null,
      "outputs": []
    },
    {
      "cell_type": "code",
      "source": [
        "plt.imshow(dcmMask[2].reshape(256, 256), cmap='gray')"
      ],
      "metadata": {
        "id": "IDJByI81C4yE"
      },
      "execution_count": null,
      "outputs": []
    },
    {
      "cell_type": "code",
      "source": [
        "plt.imshow(dcmMask[2].reshape(256, 256,1), cmap='hot')"
      ],
      "metadata": {
        "id": "UQLlwOIHC-M9"
      },
      "execution_count": null,
      "outputs": []
    },
    {
      "cell_type": "code",
      "source": [
        "plt.imshow(train_decoded[2].reshape(256, 256,1), cmap='hot')"
      ],
      "metadata": {
        "id": "RtiKDt95DDQc"
      },
      "execution_count": null,
      "outputs": []
    },
    {
      "cell_type": "code",
      "source": [
        "print(dcmMask[0].reshape(256,256))"
      ],
      "metadata": {
        "id": "FXCY7CBJu4g2"
      },
      "execution_count": null,
      "outputs": []
    },
    {
      "cell_type": "code",
      "source": [
        "print(train_decoded[0].reshape(256,256))"
      ],
      "metadata": {
        "id": "YEl4g8js_Jcw"
      },
      "execution_count": null,
      "outputs": []
    },
    {
      "cell_type": "code",
      "source": [
        "train_decoded.shape"
      ],
      "metadata": {
        "id": "4VNZUbts_gbW"
      },
      "execution_count": null,
      "outputs": []
    },
    {
      "cell_type": "code",
      "source": [
        "print(dcmMask[0].reshape(256,256))"
      ],
      "metadata": {
        "id": "RROwcqnH-7dq"
      },
      "execution_count": null,
      "outputs": []
    },
    {
      "cell_type": "code",
      "source": [
        "    plt.imshow(train_decoded[0].reshape(256, 256), cmap='hot')"
      ],
      "metadata": {
        "id": "JqTg5QNv3KtK"
      },
      "execution_count": null,
      "outputs": []
    },
    {
      "cell_type": "code",
      "source": [
        "plt.imshow(dcmMask[0].reshape(256, 256,1), cmap='hot')"
      ],
      "metadata": {
        "id": "9phZcD8c3iVh"
      },
      "execution_count": null,
      "outputs": []
    },
    {
      "cell_type": "code",
      "source": [
        "print(train_decoded[0].reshape(256, 256))"
      ],
      "metadata": {
        "id": "hOuCbGrz2bKp"
      },
      "execution_count": null,
      "outputs": []
    },
    {
      "cell_type": "code",
      "source": [
        "!pip install pydicom"
      ],
      "metadata": {
        "colab": {
          "base_uri": "https://localhost:8080/"
        },
        "id": "VGOO3XpMaTLe",
        "outputId": "2b31ce6b-4359-45aa-b885-2df0ad0e357f"
      },
      "execution_count": null,
      "outputs": [
        {
          "output_type": "stream",
          "name": "stdout",
          "text": [
            "Collecting pydicom\n",
            "  Downloading pydicom-2.4.1-py3-none-any.whl (1.8 MB)\n",
            "\u001b[?25l     \u001b[90m━━━━━━━━━━━━━━━━━━━━━━━━━━━━━━━━━━━━━━━━\u001b[0m \u001b[32m0.0/1.8 MB\u001b[0m \u001b[31m?\u001b[0m eta \u001b[36m-:--:--\u001b[0m\r\u001b[2K     \u001b[91m━━━━━━\u001b[0m\u001b[90m╺\u001b[0m\u001b[90m━━━━━━━━━━━━━━━━━━━━━━━━━━━━━━━━━\u001b[0m \u001b[32m0.3/1.8 MB\u001b[0m \u001b[31m8.3 MB/s\u001b[0m eta \u001b[36m0:00:01\u001b[0m\r\u001b[2K     \u001b[91m━━━━━━━━━━━━━━━━━━━━━━━━━━━━━━━━━━━━━━━\u001b[0m\u001b[91m╸\u001b[0m \u001b[32m1.8/1.8 MB\u001b[0m \u001b[31m28.0 MB/s\u001b[0m eta \u001b[36m0:00:01\u001b[0m\r\u001b[2K     \u001b[90m━━━━━━━━━━━━━━━━━━━━━━━━━━━━━━━━━━━━━━━━\u001b[0m \u001b[32m1.8/1.8 MB\u001b[0m \u001b[31m21.7 MB/s\u001b[0m eta \u001b[36m0:00:00\u001b[0m\n",
            "\u001b[?25hInstalling collected packages: pydicom\n",
            "Successfully installed pydicom-2.4.1\n"
          ]
        }
      ]
    },
    {
      "cell_type": "code",
      "source": [
        "!pip install tqdm"
      ],
      "metadata": {
        "colab": {
          "base_uri": "https://localhost:8080/"
        },
        "id": "3Ou0x0VEUeeT",
        "outputId": "8e6777f7-f2b4-44d7-a406-6a81fa962390"
      },
      "execution_count": null,
      "outputs": [
        {
          "output_type": "stream",
          "name": "stdout",
          "text": [
            "Requirement already satisfied: tqdm in /usr/local/lib/python3.10/dist-packages (4.65.0)\n"
          ]
        }
      ]
    },
    {
      "cell_type": "code",
      "source": [
        "!pip install tensorflow\n"
      ],
      "metadata": {
        "colab": {
          "base_uri": "https://localhost:8080/"
        },
        "id": "pV8QwJsqVM7h",
        "outputId": "dee2dc1c-f4c1-4e5a-ace2-f04265c69d44"
      },
      "execution_count": null,
      "outputs": [
        {
          "output_type": "stream",
          "name": "stdout",
          "text": [
            "Requirement already satisfied: tensorflow in /usr/local/lib/python3.10/dist-packages (2.12.0)\n",
            "Requirement already satisfied: absl-py>=1.0.0 in /usr/local/lib/python3.10/dist-packages (from tensorflow) (1.4.0)\n",
            "Requirement already satisfied: astunparse>=1.6.0 in /usr/local/lib/python3.10/dist-packages (from tensorflow) (1.6.3)\n",
            "Requirement already satisfied: flatbuffers>=2.0 in /usr/local/lib/python3.10/dist-packages (from tensorflow) (23.5.26)\n",
            "Requirement already satisfied: gast<=0.4.0,>=0.2.1 in /usr/local/lib/python3.10/dist-packages (from tensorflow) (0.4.0)\n",
            "Requirement already satisfied: google-pasta>=0.1.1 in /usr/local/lib/python3.10/dist-packages (from tensorflow) (0.2.0)\n",
            "Requirement already satisfied: grpcio<2.0,>=1.24.3 in /usr/local/lib/python3.10/dist-packages (from tensorflow) (1.56.0)\n",
            "Requirement already satisfied: h5py>=2.9.0 in /usr/local/lib/python3.10/dist-packages (from tensorflow) (3.8.0)\n",
            "Requirement already satisfied: jax>=0.3.15 in /usr/local/lib/python3.10/dist-packages (from tensorflow) (0.4.10)\n",
            "Requirement already satisfied: keras<2.13,>=2.12.0 in /usr/local/lib/python3.10/dist-packages (from tensorflow) (2.12.0)\n",
            "Requirement already satisfied: libclang>=13.0.0 in /usr/local/lib/python3.10/dist-packages (from tensorflow) (16.0.0)\n",
            "Requirement already satisfied: numpy<1.24,>=1.22 in /usr/local/lib/python3.10/dist-packages (from tensorflow) (1.22.4)\n",
            "Requirement already satisfied: opt-einsum>=2.3.2 in /usr/local/lib/python3.10/dist-packages (from tensorflow) (3.3.0)\n",
            "Requirement already satisfied: packaging in /usr/local/lib/python3.10/dist-packages (from tensorflow) (23.1)\n",
            "Requirement already satisfied: protobuf!=4.21.0,!=4.21.1,!=4.21.2,!=4.21.3,!=4.21.4,!=4.21.5,<5.0.0dev,>=3.20.3 in /usr/local/lib/python3.10/dist-packages (from tensorflow) (3.20.3)\n",
            "Requirement already satisfied: setuptools in /usr/local/lib/python3.10/dist-packages (from tensorflow) (67.7.2)\n",
            "Requirement already satisfied: six>=1.12.0 in /usr/local/lib/python3.10/dist-packages (from tensorflow) (1.16.0)\n",
            "Requirement already satisfied: tensorboard<2.13,>=2.12 in /usr/local/lib/python3.10/dist-packages (from tensorflow) (2.12.3)\n",
            "Requirement already satisfied: tensorflow-estimator<2.13,>=2.12.0 in /usr/local/lib/python3.10/dist-packages (from tensorflow) (2.12.0)\n",
            "Requirement already satisfied: termcolor>=1.1.0 in /usr/local/lib/python3.10/dist-packages (from tensorflow) (2.3.0)\n",
            "Requirement already satisfied: typing-extensions>=3.6.6 in /usr/local/lib/python3.10/dist-packages (from tensorflow) (4.6.3)\n",
            "Requirement already satisfied: wrapt<1.15,>=1.11.0 in /usr/local/lib/python3.10/dist-packages (from tensorflow) (1.14.1)\n",
            "Requirement already satisfied: tensorflow-io-gcs-filesystem>=0.23.1 in /usr/local/lib/python3.10/dist-packages (from tensorflow) (0.32.0)\n",
            "Requirement already satisfied: wheel<1.0,>=0.23.0 in /usr/local/lib/python3.10/dist-packages (from astunparse>=1.6.0->tensorflow) (0.40.0)\n",
            "Requirement already satisfied: ml-dtypes>=0.1.0 in /usr/local/lib/python3.10/dist-packages (from jax>=0.3.15->tensorflow) (0.2.0)\n",
            "Requirement already satisfied: scipy>=1.7 in /usr/local/lib/python3.10/dist-packages (from jax>=0.3.15->tensorflow) (1.10.1)\n",
            "Requirement already satisfied: google-auth<3,>=1.6.3 in /usr/local/lib/python3.10/dist-packages (from tensorboard<2.13,>=2.12->tensorflow) (2.17.3)\n",
            "Requirement already satisfied: google-auth-oauthlib<1.1,>=0.5 in /usr/local/lib/python3.10/dist-packages (from tensorboard<2.13,>=2.12->tensorflow) (1.0.0)\n",
            "Requirement already satisfied: markdown>=2.6.8 in /usr/local/lib/python3.10/dist-packages (from tensorboard<2.13,>=2.12->tensorflow) (3.4.3)\n",
            "Requirement already satisfied: requests<3,>=2.21.0 in /usr/local/lib/python3.10/dist-packages (from tensorboard<2.13,>=2.12->tensorflow) (2.27.1)\n",
            "Requirement already satisfied: tensorboard-data-server<0.8.0,>=0.7.0 in /usr/local/lib/python3.10/dist-packages (from tensorboard<2.13,>=2.12->tensorflow) (0.7.1)\n",
            "Requirement already satisfied: werkzeug>=1.0.1 in /usr/local/lib/python3.10/dist-packages (from tensorboard<2.13,>=2.12->tensorflow) (2.3.6)\n",
            "Requirement already satisfied: cachetools<6.0,>=2.0.0 in /usr/local/lib/python3.10/dist-packages (from google-auth<3,>=1.6.3->tensorboard<2.13,>=2.12->tensorflow) (5.3.1)\n",
            "Requirement already satisfied: pyasn1-modules>=0.2.1 in /usr/local/lib/python3.10/dist-packages (from google-auth<3,>=1.6.3->tensorboard<2.13,>=2.12->tensorflow) (0.3.0)\n",
            "Requirement already satisfied: rsa<5,>=3.1.4 in /usr/local/lib/python3.10/dist-packages (from google-auth<3,>=1.6.3->tensorboard<2.13,>=2.12->tensorflow) (4.9)\n",
            "Requirement already satisfied: requests-oauthlib>=0.7.0 in /usr/local/lib/python3.10/dist-packages (from google-auth-oauthlib<1.1,>=0.5->tensorboard<2.13,>=2.12->tensorflow) (1.3.1)\n",
            "Requirement already satisfied: urllib3<1.27,>=1.21.1 in /usr/local/lib/python3.10/dist-packages (from requests<3,>=2.21.0->tensorboard<2.13,>=2.12->tensorflow) (1.26.16)\n",
            "Requirement already satisfied: certifi>=2017.4.17 in /usr/local/lib/python3.10/dist-packages (from requests<3,>=2.21.0->tensorboard<2.13,>=2.12->tensorflow) (2023.5.7)\n",
            "Requirement already satisfied: charset-normalizer~=2.0.0 in /usr/local/lib/python3.10/dist-packages (from requests<3,>=2.21.0->tensorboard<2.13,>=2.12->tensorflow) (2.0.12)\n",
            "Requirement already satisfied: idna<4,>=2.5 in /usr/local/lib/python3.10/dist-packages (from requests<3,>=2.21.0->tensorboard<2.13,>=2.12->tensorflow) (3.4)\n",
            "Requirement already satisfied: MarkupSafe>=2.1.1 in /usr/local/lib/python3.10/dist-packages (from werkzeug>=1.0.1->tensorboard<2.13,>=2.12->tensorflow) (2.1.3)\n",
            "Requirement already satisfied: pyasn1<0.6.0,>=0.4.6 in /usr/local/lib/python3.10/dist-packages (from pyasn1-modules>=0.2.1->google-auth<3,>=1.6.3->tensorboard<2.13,>=2.12->tensorflow) (0.5.0)\n",
            "Requirement already satisfied: oauthlib>=3.0.0 in /usr/local/lib/python3.10/dist-packages (from requests-oauthlib>=0.7.0->google-auth-oauthlib<1.1,>=0.5->tensorboard<2.13,>=2.12->tensorflow) (3.2.2)\n"
          ]
        }
      ]
    },
    {
      "cell_type": "code",
      "source": [
        "from google.colab import files\n",
        "uploaded = files.upload()"
      ],
      "metadata": {
        "colab": {
          "base_uri": "https://localhost:8080/",
          "height": 73
        },
        "id": "hBcQ2eghK9HK",
        "outputId": "ff8a8a6c-65a3-4c25-ca1f-715bb4a03f34"
      },
      "execution_count": null,
      "outputs": [
        {
          "output_type": "display_data",
          "data": {
            "text/plain": [
              "<IPython.core.display.HTML object>"
            ],
            "text/html": [
              "\n",
              "     <input type=\"file\" id=\"files-048ffef8-ff6c-459a-bc1f-be00ee3e2ee5\" name=\"files[]\" multiple disabled\n",
              "        style=\"border:none\" />\n",
              "     <output id=\"result-048ffef8-ff6c-459a-bc1f-be00ee3e2ee5\">\n",
              "      Upload widget is only available when the cell has been executed in the\n",
              "      current browser session. Please rerun this cell to enable.\n",
              "      </output>\n",
              "      <script>// Copyright 2017 Google LLC\n",
              "//\n",
              "// Licensed under the Apache License, Version 2.0 (the \"License\");\n",
              "// you may not use this file except in compliance with the License.\n",
              "// You may obtain a copy of the License at\n",
              "//\n",
              "//      http://www.apache.org/licenses/LICENSE-2.0\n",
              "//\n",
              "// Unless required by applicable law or agreed to in writing, software\n",
              "// distributed under the License is distributed on an \"AS IS\" BASIS,\n",
              "// WITHOUT WARRANTIES OR CONDITIONS OF ANY KIND, either express or implied.\n",
              "// See the License for the specific language governing permissions and\n",
              "// limitations under the License.\n",
              "\n",
              "/**\n",
              " * @fileoverview Helpers for google.colab Python module.\n",
              " */\n",
              "(function(scope) {\n",
              "function span(text, styleAttributes = {}) {\n",
              "  const element = document.createElement('span');\n",
              "  element.textContent = text;\n",
              "  for (const key of Object.keys(styleAttributes)) {\n",
              "    element.style[key] = styleAttributes[key];\n",
              "  }\n",
              "  return element;\n",
              "}\n",
              "\n",
              "// Max number of bytes which will be uploaded at a time.\n",
              "const MAX_PAYLOAD_SIZE = 100 * 1024;\n",
              "\n",
              "function _uploadFiles(inputId, outputId) {\n",
              "  const steps = uploadFilesStep(inputId, outputId);\n",
              "  const outputElement = document.getElementById(outputId);\n",
              "  // Cache steps on the outputElement to make it available for the next call\n",
              "  // to uploadFilesContinue from Python.\n",
              "  outputElement.steps = steps;\n",
              "\n",
              "  return _uploadFilesContinue(outputId);\n",
              "}\n",
              "\n",
              "// This is roughly an async generator (not supported in the browser yet),\n",
              "// where there are multiple asynchronous steps and the Python side is going\n",
              "// to poll for completion of each step.\n",
              "// This uses a Promise to block the python side on completion of each step,\n",
              "// then passes the result of the previous step as the input to the next step.\n",
              "function _uploadFilesContinue(outputId) {\n",
              "  const outputElement = document.getElementById(outputId);\n",
              "  const steps = outputElement.steps;\n",
              "\n",
              "  const next = steps.next(outputElement.lastPromiseValue);\n",
              "  return Promise.resolve(next.value.promise).then((value) => {\n",
              "    // Cache the last promise value to make it available to the next\n",
              "    // step of the generator.\n",
              "    outputElement.lastPromiseValue = value;\n",
              "    return next.value.response;\n",
              "  });\n",
              "}\n",
              "\n",
              "/**\n",
              " * Generator function which is called between each async step of the upload\n",
              " * process.\n",
              " * @param {string} inputId Element ID of the input file picker element.\n",
              " * @param {string} outputId Element ID of the output display.\n",
              " * @return {!Iterable<!Object>} Iterable of next steps.\n",
              " */\n",
              "function* uploadFilesStep(inputId, outputId) {\n",
              "  const inputElement = document.getElementById(inputId);\n",
              "  inputElement.disabled = false;\n",
              "\n",
              "  const outputElement = document.getElementById(outputId);\n",
              "  outputElement.innerHTML = '';\n",
              "\n",
              "  const pickedPromise = new Promise((resolve) => {\n",
              "    inputElement.addEventListener('change', (e) => {\n",
              "      resolve(e.target.files);\n",
              "    });\n",
              "  });\n",
              "\n",
              "  const cancel = document.createElement('button');\n",
              "  inputElement.parentElement.appendChild(cancel);\n",
              "  cancel.textContent = 'Cancel upload';\n",
              "  const cancelPromise = new Promise((resolve) => {\n",
              "    cancel.onclick = () => {\n",
              "      resolve(null);\n",
              "    };\n",
              "  });\n",
              "\n",
              "  // Wait for the user to pick the files.\n",
              "  const files = yield {\n",
              "    promise: Promise.race([pickedPromise, cancelPromise]),\n",
              "    response: {\n",
              "      action: 'starting',\n",
              "    }\n",
              "  };\n",
              "\n",
              "  cancel.remove();\n",
              "\n",
              "  // Disable the input element since further picks are not allowed.\n",
              "  inputElement.disabled = true;\n",
              "\n",
              "  if (!files) {\n",
              "    return {\n",
              "      response: {\n",
              "        action: 'complete',\n",
              "      }\n",
              "    };\n",
              "  }\n",
              "\n",
              "  for (const file of files) {\n",
              "    const li = document.createElement('li');\n",
              "    li.append(span(file.name, {fontWeight: 'bold'}));\n",
              "    li.append(span(\n",
              "        `(${file.type || 'n/a'}) - ${file.size} bytes, ` +\n",
              "        `last modified: ${\n",
              "            file.lastModifiedDate ? file.lastModifiedDate.toLocaleDateString() :\n",
              "                                    'n/a'} - `));\n",
              "    const percent = span('0% done');\n",
              "    li.appendChild(percent);\n",
              "\n",
              "    outputElement.appendChild(li);\n",
              "\n",
              "    const fileDataPromise = new Promise((resolve) => {\n",
              "      const reader = new FileReader();\n",
              "      reader.onload = (e) => {\n",
              "        resolve(e.target.result);\n",
              "      };\n",
              "      reader.readAsArrayBuffer(file);\n",
              "    });\n",
              "    // Wait for the data to be ready.\n",
              "    let fileData = yield {\n",
              "      promise: fileDataPromise,\n",
              "      response: {\n",
              "        action: 'continue',\n",
              "      }\n",
              "    };\n",
              "\n",
              "    // Use a chunked sending to avoid message size limits. See b/62115660.\n",
              "    let position = 0;\n",
              "    do {\n",
              "      const length = Math.min(fileData.byteLength - position, MAX_PAYLOAD_SIZE);\n",
              "      const chunk = new Uint8Array(fileData, position, length);\n",
              "      position += length;\n",
              "\n",
              "      const base64 = btoa(String.fromCharCode.apply(null, chunk));\n",
              "      yield {\n",
              "        response: {\n",
              "          action: 'append',\n",
              "          file: file.name,\n",
              "          data: base64,\n",
              "        },\n",
              "      };\n",
              "\n",
              "      let percentDone = fileData.byteLength === 0 ?\n",
              "          100 :\n",
              "          Math.round((position / fileData.byteLength) * 100);\n",
              "      percent.textContent = `${percentDone}% done`;\n",
              "\n",
              "    } while (position < fileData.byteLength);\n",
              "  }\n",
              "\n",
              "  // All done.\n",
              "  yield {\n",
              "    response: {\n",
              "      action: 'complete',\n",
              "    }\n",
              "  };\n",
              "}\n",
              "\n",
              "scope.google = scope.google || {};\n",
              "scope.google.colab = scope.google.colab || {};\n",
              "scope.google.colab._files = {\n",
              "  _uploadFiles,\n",
              "  _uploadFilesContinue,\n",
              "};\n",
              "})(self);\n",
              "</script> "
            ]
          },
          "metadata": {}
        },
        {
          "output_type": "stream",
          "name": "stdout",
          "text": [
            "Saving DCM_File_Paths_Reduced.csv to DCM_File_Paths_Reduced.csv\n"
          ]
        }
      ]
    }
  ]
}